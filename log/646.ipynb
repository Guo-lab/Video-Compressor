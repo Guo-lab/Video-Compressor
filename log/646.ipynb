{
  "nbformat": 4,
  "nbformat_minor": 0,
  "metadata": {
    "colab": {
      "provenance": [],
      "gpuType": "T4"
    },
    "kernelspec": {
      "name": "python3",
      "display_name": "Python 3"
    },
    "language_info": {
      "name": "python"
    },
    "accelerator": "GPU"
  },
  "cells": [
    {
      "cell_type": "code",
      "source": [
        "from google.colab import drive\n",
        "drive.mount('/content/drive')"
      ],
      "metadata": {
        "colab": {
          "base_uri": "https://localhost:8080/"
        },
        "id": "QmV7xkRJiQax",
        "outputId": "184d1627-6e80-4694-8186-9f496c9d6b97"
      },
      "execution_count": 5,
      "outputs": [
        {
          "output_type": "stream",
          "name": "stdout",
          "text": [
            "Mounted at /content/drive\n"
          ]
        }
      ]
    },
    {
      "cell_type": "code",
      "execution_count": 6,
      "metadata": {
        "colab": {
          "base_uri": "https://localhost:8080/"
        },
        "id": "JgwWNX4tiCMl",
        "outputId": "6ff986cf-553c-45d6-9f1c-67fc716955fa"
      },
      "outputs": [
        {
          "output_type": "stream",
          "name": "stdout",
          "text": [
            "/content\n"
          ]
        }
      ],
      "source": [
        "!pwd"
      ]
    },
    {
      "cell_type": "code",
      "source": [
        "!ls drive/MyDrive/"
      ],
      "metadata": {
        "id": "PJ-d0IvtiGRJ"
      },
      "execution_count": null,
      "outputs": []
    },
    {
      "cell_type": "code",
      "source": [
        "%cd drive/MyDrive/Video-Compressor"
      ],
      "metadata": {
        "colab": {
          "base_uri": "https://localhost:8080/"
        },
        "id": "Nkk7KHqFicKM",
        "outputId": "9248db8b-3d39-4e50-f7a7-a08fae3e970b"
      },
      "execution_count": 8,
      "outputs": [
        {
          "output_type": "stream",
          "name": "stdout",
          "text": [
            "/content/drive/MyDrive/Video-Compressor\n"
          ]
        }
      ]
    },
    {
      "cell_type": "code",
      "source": [
        "!ls"
      ],
      "metadata": {
        "colab": {
          "base_uri": "https://localhost:8080/"
        },
        "id": "dTBN0_Q2ijSj",
        "outputId": "97abffd0-53b2-476e-a8f2-8435286772e9"
      },
      "execution_count": 9,
      "outputs": [
        {
          "output_type": "stream",
          "name": "stdout",
          "text": [
            "build  CMakeLists.txt  include\tinput_videos  LICENSE  log  output_videos  README.md  src  tests\n"
          ]
        }
      ]
    },
    {
      "cell_type": "code",
      "source": [
        "!nvcc --version\n",
        "!nvidia-smi"
      ],
      "metadata": {
        "colab": {
          "base_uri": "https://localhost:8080/"
        },
        "id": "Slmh8cdsi3PL",
        "outputId": "d8d8fb33-7931-4901-bc49-8290ea5af545"
      },
      "execution_count": 10,
      "outputs": [
        {
          "output_type": "stream",
          "name": "stdout",
          "text": [
            "nvcc: NVIDIA (R) Cuda compiler driver\n",
            "Copyright (c) 2005-2024 NVIDIA Corporation\n",
            "Built on Thu_Jun__6_02:18:23_PDT_2024\n",
            "Cuda compilation tools, release 12.5, V12.5.82\n",
            "Build cuda_12.5.r12.5/compiler.34385749_0\n",
            "Mon Mar 10 10:15:05 2025       \n",
            "+-----------------------------------------------------------------------------------------+\n",
            "| NVIDIA-SMI 550.54.15              Driver Version: 550.54.15      CUDA Version: 12.4     |\n",
            "|-----------------------------------------+------------------------+----------------------+\n",
            "| GPU  Name                 Persistence-M | Bus-Id          Disp.A | Volatile Uncorr. ECC |\n",
            "| Fan  Temp   Perf          Pwr:Usage/Cap |           Memory-Usage | GPU-Util  Compute M. |\n",
            "|                                         |                        |               MIG M. |\n",
            "|=========================================+========================+======================|\n",
            "|   0  Tesla T4                       Off |   00000000:00:04.0 Off |                    0 |\n",
            "| N/A   59C    P8             11W /   70W |       0MiB /  15360MiB |      0%      Default |\n",
            "|                                         |                        |                  N/A |\n",
            "+-----------------------------------------+------------------------+----------------------+\n",
            "                                                                                         \n",
            "+-----------------------------------------------------------------------------------------+\n",
            "| Processes:                                                                              |\n",
            "|  GPU   GI   CI        PID   Type   Process name                              GPU Memory |\n",
            "|        ID   ID                                                               Usage      |\n",
            "|=========================================================================================|\n",
            "|  No running processes found                                                             |\n",
            "+-----------------------------------------------------------------------------------------+\n"
          ]
        }
      ]
    },
    {
      "cell_type": "code",
      "source": [
        "%cd build"
      ],
      "metadata": {
        "colab": {
          "base_uri": "https://localhost:8080/"
        },
        "id": "Ks2FkV0pjHZC",
        "outputId": "4a38fed3-d934-444b-bd68-139f0543ca9e"
      },
      "execution_count": 11,
      "outputs": [
        {
          "output_type": "stream",
          "name": "stdout",
          "text": [
            "/content/drive/MyDrive/Video-Compressor/build\n"
          ]
        }
      ]
    },
    {
      "cell_type": "code",
      "source": [
        "!pwd"
      ],
      "metadata": {
        "colab": {
          "base_uri": "https://localhost:8080/"
        },
        "id": "4EyAh4UHjTlZ",
        "outputId": "4a515435-f5fc-4200-b46b-e6d8dd5f0016"
      },
      "execution_count": 12,
      "outputs": [
        {
          "output_type": "stream",
          "name": "stdout",
          "text": [
            "/content/drive/MyDrive/Video-Compressor/build\n"
          ]
        }
      ]
    },
    {
      "cell_type": "code",
      "source": [
        "!rm -r ./*"
      ],
      "metadata": {
        "id": "6sJP60oija7R"
      },
      "execution_count": 14,
      "outputs": []
    },
    {
      "cell_type": "code",
      "source": [
        "!cmake .."
      ],
      "metadata": {
        "colab": {
          "base_uri": "https://localhost:8080/"
        },
        "id": "k09WCiIdjWjY",
        "outputId": "5d02fd3a-d2b6-4ba0-dd1b-c221f80bef6f"
      },
      "execution_count": 15,
      "outputs": [
        {
          "output_type": "stream",
          "name": "stdout",
          "text": [
            "-- The CXX compiler identification is GNU 11.4.0\n",
            "-- Detecting CXX compiler ABI info\n",
            "-- Detecting CXX compiler ABI info - done\n",
            "-- Check for working CXX compiler: /usr/bin/c++ - skipped\n",
            "-- Detecting CXX compile features\n",
            "-- Detecting CXX compile features - done\n",
            "-- Found OpenCV: /usr (found version \"4.5.4\")\n",
            "-- OpenCV version: 4.5.4\n",
            "-- OpenCV libraries: opencv_calib3d;opencv_core;opencv_dnn;opencv_features2d;opencv_flann;opencv_highgui;opencv_imgcodecs;opencv_imgproc;opencv_ml;opencv_objdetect;opencv_photo;opencv_stitching;opencv_video;opencv_videoio;opencv_alphamat;opencv_aruco;opencv_barcode;opencv_bgsegm;opencv_bioinspired;opencv_ccalib;opencv_datasets;opencv_dnn_objdetect;opencv_dnn_superres;opencv_dpm;opencv_face;opencv_freetype;opencv_fuzzy;opencv_hdf;opencv_hfs;opencv_img_hash;opencv_intensity_transform;opencv_line_descriptor;opencv_mcc;opencv_optflow;opencv_phase_unwrapping;opencv_plot;opencv_quality;opencv_rapid;opencv_reg;opencv_rgbd;opencv_saliency;opencv_shape;opencv_stereo;opencv_structured_light;opencv_superres;opencv_surface_matching;opencv_text;opencv_tracking;opencv_videostab;opencv_viz;opencv_wechat_qrcode;opencv_ximgproc;opencv_xobjdetect;opencv_xphoto\n",
            "-- OpenCV include directories: /usr/include/opencv4\n",
            "\u001b[33mCMake Warning (dev) at CMakeLists.txt:36 (find_package):\n",
            "  Policy CMP0146 is not set: The FindCUDA module is removed.  Run \"cmake\n",
            "  --help-policy CMP0146\" for policy details.  Use the cmake_policy command to\n",
            "  set the policy and suppress this warning.\n",
            "\n",
            "This warning is for project developers.  Use -Wno-dev to suppress it.\n",
            "\u001b[0m\n",
            "-- Performing Test CMAKE_HAVE_LIBC_PTHREAD\n",
            "-- Performing Test CMAKE_HAVE_LIBC_PTHREAD - Success\n",
            "-- Found Threads: TRUE\n",
            "-- CUDA found: 12.5\n",
            "-- CUDA libraries: /usr/local/cuda/lib64/libcudart_static.a;Threads::Threads;dl;/usr/lib/x86_64-linux-gnu/librt.a\n",
            "-- CUDA include directories: /usr/local/cuda/include\n",
            "-- The CUDA compiler identification is NVIDIA 12.5.82 with host compiler GNU 11.4.0\n",
            "-- Detecting CUDA compiler ABI info\n",
            "-- Detecting CUDA compiler ABI info - done\n",
            "-- Check for working CUDA compiler: /usr/local/cuda/bin/nvcc - skipped\n",
            "-- Detecting CUDA compile features\n",
            "-- Detecting CUDA compile features - done\n",
            "-- Found CUDAToolkit: /usr/local/cuda/targets/x86_64-linux/include (found version \"12.5.82\")\n",
            "-- CUDA source files: /content/drive/MyDrive/Video-Compressor/src/algorithms/cuda_bilinear_downsample_algorithm.cu\n",
            "-- SOURCES: /content/drive/MyDrive/Video-Compressor/src/algorithms/base_algorithm.cpp;/content/drive/MyDrive/Video-Compressor/src/algorithms/bilinear_downsample_algorithm.cpp;/content/drive/MyDrive/Video-Compressor/src/algorithms/cv_downsample_algorithm.cpp;/content/drive/MyDrive/Video-Compressor/src/core/decoder.cpp;/content/drive/MyDrive/Video-Compressor/src/core/encoder.cpp;/content/drive/MyDrive/Video-Compressor/src/main.cpp;/content/drive/MyDrive/Video-Compressor/src/utils/audio.cpp;/content/drive/MyDrive/Video-Compressor/src/utils/file_reader.cpp;/content/drive/MyDrive/Video-Compressor/src/utils/file_writer.cpp\n",
            "-- MAIN_SOURCE: /content/drive/MyDrive/Video-Compressor/src/main.cpp\n",
            "-- LIB_SOURCES: /content/drive/MyDrive/Video-Compressor/src/algorithms/base_algorithm.cpp;/content/drive/MyDrive/Video-Compressor/src/algorithms/bilinear_downsample_algorithm.cpp;/content/drive/MyDrive/Video-Compressor/src/algorithms/cv_downsample_algorithm.cpp;/content/drive/MyDrive/Video-Compressor/src/core/decoder.cpp;/content/drive/MyDrive/Video-Compressor/src/core/encoder.cpp;/content/drive/MyDrive/Video-Compressor/src/utils/audio.cpp;/content/drive/MyDrive/Video-Compressor/src/utils/file_reader.cpp;/content/drive/MyDrive/Video-Compressor/src/utils/file_writer.cpp\n",
            "-- Lib target name: video_compressor_lib\n",
            "-- Executable target name: video_compressor\n",
            "-- CPU-only executable target name: video_compressor_cpu\n",
            "-- Configuring done (6.8s)\n",
            "-- Generating done (0.6s)\n",
            "-- Build files have been written to: /content/drive/MyDrive/Video-Compressor/build\n"
          ]
        }
      ]
    },
    {
      "cell_type": "code",
      "source": [
        "!make"
      ],
      "metadata": {
        "colab": {
          "base_uri": "https://localhost:8080/"
        },
        "id": "a_qf5mmzjgr3",
        "outputId": "d4b65732-130f-4128-8bca-c307ec09c693"
      },
      "execution_count": 16,
      "outputs": [
        {
          "output_type": "stream",
          "name": "stdout",
          "text": [
            "[ -3%] \u001b[32mBuilding CXX object CMakeFiles/video_compressor_lib.dir/src/algorithms/base_algorithm.cpp.o\u001b[0m\n",
            "[  0%] \u001b[32mBuilding CXX object CMakeFiles/video_compressor_lib.dir/src/algorithms/bilinear_downsample_algorithm.cpp.o\u001b[0m\n",
            "[  3%] \u001b[32mBuilding CXX object CMakeFiles/video_compressor_lib.dir/src/algorithms/cv_downsample_algorithm.cpp.o\u001b[0m\n",
            "[  7%] \u001b[32mBuilding CXX object CMakeFiles/video_compressor_lib.dir/src/core/decoder.cpp.o\u001b[0m\n",
            "[ 11%] \u001b[32mBuilding CXX object CMakeFiles/video_compressor_lib.dir/src/core/encoder.cpp.o\u001b[0m\n",
            "[ 15%] \u001b[32mBuilding CXX object CMakeFiles/video_compressor_lib.dir/src/utils/audio.cpp.o\u001b[0m\n",
            "[ 19%] \u001b[32mBuilding CXX object CMakeFiles/video_compressor_lib.dir/src/utils/file_reader.cpp.o\u001b[0m\n",
            "[ 23%] \u001b[32mBuilding CXX object CMakeFiles/video_compressor_lib.dir/src/utils/file_writer.cpp.o\u001b[0m\n",
            "[ 26%] \u001b[32mBuilding CUDA object CMakeFiles/video_compressor_lib.dir/src/algorithms/cuda_bilinear_downsample_algorithm.cu.o\u001b[0m\n",
            "[ 30%] \u001b[32m\u001b[1mLinking CXX static library libvideo_compressor_lib.a\u001b[0m\n",
            "[ 30%] Built target video_compressor_lib\n",
            "[ 34%] \u001b[32mBuilding CXX object CMakeFiles/video_compressor.dir/src/main.cpp.o\u001b[0m\n",
            "[ 38%] \u001b[32m\u001b[1mLinking CXX executable video_compressor\u001b[0m\n",
            "[ 38%] Built target video_compressor\n",
            "[ 42%] \u001b[32mBuilding CXX object CMakeFiles/video_compressor_lib_cpu.dir/src/algorithms/base_algorithm.cpp.o\u001b[0m\n",
            "[ 46%] \u001b[32mBuilding CXX object CMakeFiles/video_compressor_lib_cpu.dir/src/algorithms/bilinear_downsample_algorithm.cpp.o\u001b[0m\n",
            "[ 50%] \u001b[32mBuilding CXX object CMakeFiles/video_compressor_lib_cpu.dir/src/algorithms/cv_downsample_algorithm.cpp.o\u001b[0m\n",
            "[ 53%] \u001b[32mBuilding CXX object CMakeFiles/video_compressor_lib_cpu.dir/src/core/decoder.cpp.o\u001b[0m\n",
            "[ 57%] \u001b[32mBuilding CXX object CMakeFiles/video_compressor_lib_cpu.dir/src/core/encoder.cpp.o\u001b[0m\n",
            "[ 61%] \u001b[32mBuilding CXX object CMakeFiles/video_compressor_lib_cpu.dir/src/utils/audio.cpp.o\u001b[0m\n",
            "[ 65%] \u001b[32mBuilding CXX object CMakeFiles/video_compressor_lib_cpu.dir/src/utils/file_reader.cpp.o\u001b[0m\n",
            "[ 69%] \u001b[32mBuilding CXX object CMakeFiles/video_compressor_lib_cpu.dir/src/utils/file_writer.cpp.o\u001b[0m\n",
            "[ 73%] \u001b[32m\u001b[1mLinking CXX static library libvideo_compressor_lib_cpu.a\u001b[0m\n",
            "[ 73%] Built target video_compressor_lib_cpu\n",
            "[ 76%] \u001b[32mBuilding CXX object CMakeFiles/video_compressor_cpu.dir/src/main.cpp.o\u001b[0m\n",
            "[ 80%] \u001b[32m\u001b[1mLinking CXX executable video_compressor_cpu\u001b[0m\n",
            "[ 80%] Built target video_compressor_cpu\n",
            "[ 84%] \u001b[32mBuilding CXX object tests/CMakeFiles/test_video_compressor.dir/test.cpp.o\u001b[0m\n",
            "[ 88%] \u001b[32mBuilding CXX object tests/CMakeFiles/test_video_compressor.dir/pipeline.cpp.o\u001b[0m\n",
            "[ 92%] \u001b[32m\u001b[1mLinking CXX executable test_video_compressor\u001b[0m\n",
            "[ 92%] Built target test_video_compressor\n"
          ]
        }
      ]
    },
    {
      "cell_type": "code",
      "source": [
        "!./video_compressor ../input_videos/SABRINA.mp4 ../output_videos/cpu_output_SAB.mp4 -a BilinearDownsample"
      ],
      "metadata": {
        "colab": {
          "base_uri": "https://localhost:8080/"
        },
        "id": "HbHjpbYmjt-t",
        "outputId": "d63b5016-1d7b-4e6f-e672-a0a5b0a82432"
      },
      "execution_count": 17,
      "outputs": [
        {
          "output_type": "stream",
          "name": "stdout",
          "text": [
            "Initialized downsample algorithm with factor: 4\n",
            "Created and initialized algorithm: BilinearDownsample\n",
            "<i> Extracting audio from the original video...\n",
            "Extracting audio: ffmpeg -i \"../input_videos/SABRINA.mp4\" -vn -acodec copy \"temp_audio.aac\" -y -loglevel error\n",
            "<ii> Processing video frames with BilinearDownsample algorithm...\n",
            "Opened input video file: ../input_videos/SABRINA.mp4\n",
            "  Dimensions: 1440x1080\n",
            "  FPS: 29.9867\n",
            "  Duration: 210.23 seconds\n",
            "  Frame count: 6304\n",
            "Opened compressed file: data.vcomp\n",
            "  Dimensions: 1440x1080\n",
            "  FPS: 29986\n",
            "  Algorithm ID: 1\n",
            "Processed 0 frames...\n",
            "Processed 500 frames...\n",
            "Processed 1000 frames...\n",
            "Processed 1500 frames...\n",
            "Processed 2000 frames...\n",
            "Processed 2500 frames...\n",
            "Processed 3000 frames...\n",
            "Processed 3500 frames...\n",
            "Processed 4000 frames...\n",
            "Processed 4500 frames...\n",
            "Processed 5000 frames...\n",
            "Processed 5500 frames...\n",
            "Processed 6000 frames...\n",
            "Completed processing 6297 frames.\n",
            "Video processing Encoding completed successfully!\n",
            "Compressed Data saved to: data.vcomp\n",
            "Encoding Statistics:\n",
            "  Algorithm: BilinearDownsample\n",
            "  Frames processed: 6297\n",
            "  Total input size: 29379283200 bytes\n",
            "  Total output size: 1836255576 bytes\n",
            "  Compression ratio: 15.9996:1\n",
            "  Average time per frame: 3.99007 ms\n",
            "  Total processing time: 54.3759 seconds\n",
            "Algorithm Statistics:\n",
            "BilinearDownsample Algorithm Statistics:\n",
            "  OpenCV Downsample factor: 4\n",
            "  Frames compressed: 6297\n",
            "  Frames decompressed: 0\n",
            "  Average compression ratio: 16:1\n",
            "  Average compression time: 2.42797 ms\n",
            "\n",
            "Initialized downsample algorithm with factor: 4\n",
            "Created and initialized algorithm: BilinearDownsample\n",
            "<iii> Processing video frames with decompression BilinearDownsample algorithm...\n",
            "Opened compressed file: data.vcomp\n",
            "  Dimensions: 1440x1080\n",
            "  FPS: 29.99\n",
            "  Algorithm ID: 1\n",
            "Original video dimensions: 1440x1080\n",
            "Original video FPS: 29.99\n",
            "Opened output video file: temp_processed_video.mp4\n",
            "  Dimensions: 1440x1080\n",
            "  FPS: 29.99\n",
            "  Quality: 75\n",
            "Decompressed 500 frames...\n",
            "Decompressed 1000 frames...\n",
            "Decompressed 1500 frames...\n",
            "Decompressed 2000 frames...\n",
            "Decompressed 2500 frames...\n",
            "Decompressed 3000 frames...\n",
            "Decompressed 3500 frames...\n",
            "Decompressed 4000 frames...\n",
            "Decompressed 4500 frames...\n",
            "Decompressed 5000 frames...\n",
            "Decompressed 5500 frames...\n",
            "Decompressed 6000 frames...\n",
            "Completed decompressing 6297 frames.\n",
            "<iv> Combining processed video with original audio...\n",
            "Combining video and audio: ffmpeg -i \"temp_processed_video.mp4\" -i \"temp_audio.aac\" -c:v copy -c:a aac -map 0:v:0 -map 1:a:0 \"../output_videos/cpu_output_SAB.mp4\" -y -loglevel error\n",
            "Video processing Decoding completed successfully!\n",
            "Final Output saved to: ../output_videos/cpu_output_SAB.mp4\n",
            "Decoding Statistics:\n",
            "  Algorithm: BilinearDownsample\n",
            "  Frames processed: 6297\n",
            "  Total input size: 1836255576 bytes\n",
            "  Total output size: 29379283200 bytes\n",
            "  Average time per frame: 127.53 ms\n",
            "  Total processing time: 822.861 seconds\n",
            "Algorithm Statistics:\n",
            "BilinearDownsample Algorithm Statistics:\n",
            "  OpenCV Downsample factor: 4\n",
            "  Frames compressed: 0\n",
            "  Frames decompressed: 6297\n",
            "  Average compression ratio: 0:1\n",
            "  Average decompression time: 44.8383 ms\n",
            "\n"
          ]
        }
      ]
    },
    {
      "cell_type": "code",
      "source": [
        "!ls"
      ],
      "metadata": {
        "colab": {
          "base_uri": "https://localhost:8080/"
        },
        "id": "V83ABdkanYHg",
        "outputId": "5d41baee-fe87-4579-ee99-8e96483a200e"
      },
      "execution_count": 18,
      "outputs": [
        {
          "output_type": "stream",
          "name": "stdout",
          "text": [
            "CMakeCache.txt\t     compile_commands.json\t    Makefile\t      video_compressor_cpu\n",
            "CMakeFiles\t     libvideo_compressor_lib.a\t    tests\n",
            "cmake_install.cmake  libvideo_compressor_lib_cpu.a  video_compressor\n"
          ]
        }
      ]
    },
    {
      "cell_type": "code",
      "source": [
        "!./video_compressor ../input_videos/SABRINA.mp4 ../output_videos/cpu_output_SAB.mp4 -a CudaBilinearDownsample"
      ],
      "metadata": {
        "colab": {
          "base_uri": "https://localhost:8080/"
        },
        "id": "1q9ybTTOnaKD",
        "outputId": "94b27d68-6826-44f4-e54d-f2de6f6f90e0"
      },
      "execution_count": 19,
      "outputs": [
        {
          "output_type": "stream",
          "name": "stdout",
          "text": [
            "Using CUDA Device: Tesla T4\n",
            "Initialized downsample algorithm with factor: 4\n",
            "Initialized CUDA bilinear downsample algorithm with factor: 4\n",
            "Created and initialized algorithm: CudaBilinearDownsample\n",
            "<i> Extracting audio from the original video...\n",
            "Extracting audio: ffmpeg -i \"../input_videos/SABRINA.mp4\" -vn -acodec copy \"temp_audio.aac\" -y -loglevel error\n",
            "<ii> Processing video frames with CudaBilinearDownsample algorithm...\n",
            "Opened input video file: ../input_videos/SABRINA.mp4\n",
            "  Dimensions: 1440x1080\n",
            "  FPS: 29.9867\n",
            "  Duration: 210.23 seconds\n",
            "  Frame count: 6304\n",
            "Opened compressed file: data.vcomp\n",
            "  Dimensions: 1440x1080\n",
            "  FPS: 29986\n",
            "  Algorithm ID: 1\n",
            "Processed 0 frames...\n",
            "Processed 500 frames...\n",
            "Processed 1000 frames...\n",
            "Processed 1500 frames...\n",
            "Processed 2000 frames...\n",
            "Processed 2500 frames...\n",
            "Processed 3000 frames...\n",
            "Processed 3500 frames...\n",
            "Processed 4000 frames...\n",
            "Processed 4500 frames...\n",
            "Processed 5000 frames...\n",
            "Processed 5500 frames...\n",
            "Processed 6000 frames...\n",
            "Completed processing 6297 frames.\n",
            "Video processing Encoding completed successfully!\n",
            "Compressed Data saved to: data.vcomp\n",
            "Encoding Statistics:\n",
            "  Algorithm: CudaBilinearDownsample\n",
            "  Frames processed: 6297\n",
            "  Total input size: 29379283200 bytes\n",
            "  Total output size: 1836255576 bytes\n",
            "  Compression ratio: 15.9996:1\n",
            "  Average time per frame: 3.79651 ms\n",
            "  Total processing time: 54.1593 seconds\n",
            "Algorithm Statistics:\n",
            "CudaBilinearDownsample Algorithm Statistics:\n",
            "  OpenCV Downsample factor: 4\n",
            "  Frames compressed: 6297\n",
            "  Frames decompressed: 0\n",
            "  Average compression ratio: 16:1\n",
            "  Average compression time: 2.34452 ms\n",
            "\n",
            "Using CUDA Device: Tesla T4\n",
            "Initialized downsample algorithm with factor: 4\n",
            "Initialized CUDA bilinear downsample algorithm with factor: 4\n",
            "Created and initialized algorithm: CudaBilinearDownsample\n",
            "<iii> Processing video frames with decompression CudaBilinearDownsample algorithm...\n",
            "Opened compressed file: data.vcomp\n",
            "  Dimensions: 1440x1080\n",
            "  FPS: 29.99\n",
            "  Algorithm ID: 1\n",
            "Original video dimensions: 1440x1080\n",
            "Original video FPS: 29.99\n",
            "Opened output video file: temp_processed_video.mp4\n",
            "  Dimensions: 1440x1080\n",
            "  FPS: 29.99\n",
            "  Quality: 75\n",
            "Decompressed 500 frames...\n",
            "Decompressed 1000 frames...\n",
            "Decompressed 1500 frames...\n",
            "Decompressed 2000 frames...\n",
            "Decompressed 2500 frames...\n",
            "Decompressed 3000 frames...\n",
            "Decompressed 3500 frames...\n",
            "Decompressed 4000 frames...\n",
            "Decompressed 4500 frames...\n",
            "Decompressed 5000 frames...\n",
            "Decompressed 5500 frames...\n",
            "Decompressed 6000 frames...\n",
            "Completed decompressing 6297 frames.\n",
            "<iv> Combining processed video with original audio...\n",
            "Combining video and audio: ffmpeg -i \"temp_processed_video.mp4\" -i \"temp_audio.aac\" -c:v copy -c:a aac -map 0:v:0 -map 1:a:0 \"../output_videos/cpu_output_SAB.mp4\" -y -loglevel error\n",
            "Video processing Decoding completed successfully!\n",
            "Final Output saved to: ../output_videos/cpu_output_SAB.mp4\n",
            "Decoding Statistics:\n",
            "  Algorithm: CudaBilinearDownsample\n",
            "  Frames processed: 6297\n",
            "  Total input size: 1836255576 bytes\n",
            "  Total output size: 29379283200 bytes\n",
            "  Average time per frame: 108.051 ms\n",
            "  Total processing time: 698.948 seconds\n",
            "Algorithm Statistics:\n",
            "CudaBilinearDownsample Algorithm Statistics:\n",
            "  OpenCV Downsample factor: 4\n",
            "  Frames compressed: 0\n",
            "  Frames decompressed: 6297\n",
            "  Average compression ratio: 0:1\n",
            "  Average decompression time: 4.94344 ms\n",
            "\n"
          ]
        }
      ]
    }
  ]
}